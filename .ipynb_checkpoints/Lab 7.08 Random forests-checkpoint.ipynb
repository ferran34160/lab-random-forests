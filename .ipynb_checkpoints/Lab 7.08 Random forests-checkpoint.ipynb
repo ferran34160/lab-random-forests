{
 "cells": [
  {
   "cell_type": "markdown",
   "id": "ed866197",
   "metadata": {},
   "source": [
    "# Lab | Random Forests"
   ]
  },
  {
   "cell_type": "markdown",
   "id": "43355ea6",
   "metadata": {},
   "source": [
    "### Apply the Random Forests algorithm but this time only by upscaling the data."
   ]
  },
  {
   "cell_type": "code",
   "execution_count": 1,
   "id": "699a8b3c",
   "metadata": {},
   "outputs": [
    {
     "data": {
      "text/plain": [
       "0    90569\n",
       "1     4843\n",
       "Name: TARGET_B, dtype: int64"
      ]
     },
     "execution_count": 1,
     "metadata": {},
     "output_type": "execute_result"
    }
   ],
   "source": [
    "import pandas as pd\n",
    "import numpy as np\n",
    "pd.set_option('display.max_columns', None)\n",
    "import warnings\n",
    "warnings.filterwarnings('ignore')\n",
    "\n",
    "numerical = pd.read_csv('files_for_lab/numerical.csv')\n",
    "categorical = pd.read_csv('files_for_lab/categorical.csv')\n",
    "targets = pd.read_csv('files_for_lab/target.csv')\n",
    "data = pd.concat([numerical, categorical, targets], axis = 1)\n",
    "data['TARGET_B'].value_counts()"
   ]
  },
  {
   "cell_type": "code",
   "execution_count": 2,
   "id": "b56c4d82",
   "metadata": {},
   "outputs": [
    {
     "data": {
      "text/plain": [
       "0"
      ]
     },
     "execution_count": 2,
     "metadata": {},
     "output_type": "execute_result"
    }
   ],
   "source": [
    "data.isna().sum().sum()"
   ]
  },
  {
   "cell_type": "code",
   "execution_count": 4,
   "id": "40ed0abb",
   "metadata": {},
   "outputs": [
    {
     "name": "stdout",
     "output_type": "stream",
     "text": [
      "(90569, 339)\n",
      "(90569, 339)\n"
     ]
    }
   ],
   "source": [
    "# upsampling\n",
    "from sklearn.utils import resample\n",
    "\n",
    "category_0 = data[data['TARGET_B'] == 0]\n",
    "category_1 = data[data['TARGET_B'] == 1]\n",
    "\n",
    "category_1_oversampled = resample(category_1, replace=True, n_samples = len(category_0))\n",
    "\n",
    "print(category_0.shape)\n",
    "print(category_1_oversampled.shape)"
   ]
  },
  {
   "cell_type": "code",
   "execution_count": 7,
   "id": "3aa77151",
   "metadata": {},
   "outputs": [],
   "source": [
    "data_upsampled = pd.concat([category_0, category_1_oversampled], axis=0).reset_index(drop=True)"
   ]
  },
  {
   "cell_type": "code",
   "execution_count": 9,
   "id": "928f9945",
   "metadata": {},
   "outputs": [],
   "source": [
    "y = data_upsampled['TARGET_B']\n",
    "X = data_upsampled.drop(['TARGET_B'], axis = 1)\n",
    "\n",
    "numericalX = X.select_dtypes(np.number)\n",
    "categoricalX = X.select_dtypes(np.object)\n",
    "\n",
    "from sklearn.preprocessing import OneHotEncoder\n",
    "encoder = OneHotEncoder(drop='first').fit(categoricalX)\n",
    "encoded_categorical = encoder.transform(categoricalX).toarray()\n",
    "encoded_categorical = pd.DataFrame(encoded_categorical)\n",
    "X = pd.concat([numericalX, encoded_categorical], axis = 1)\n",
    "\n",
    "from sklearn.model_selection import train_test_split\n",
    "X_train, X_test, y_train, y_test = train_test_split(X, y, test_size=0.2, random_state=0)"
   ]
  },
  {
   "cell_type": "code",
   "execution_count": 10,
   "id": "501fa385",
   "metadata": {},
   "outputs": [],
   "source": [
    "X_train = pd.DataFrame(X_train)\n",
    "X_test = pd.DataFrame(X_test)\n",
    "\n",
    "y_train_regression = X_train['TARGET_D']\n",
    "y_test_regression = X_test['TARGET_D']\n",
    "\n",
    "# Now we can remove the column target d from the set of features\n",
    "X_train = X_train.drop(['TARGET_D'], axis = 1)\n",
    "X_test = X_test.drop(['TARGET_D'], axis = 1)"
   ]
  },
  {
   "cell_type": "code",
   "execution_count": 11,
   "id": "88aff14e",
   "metadata": {},
   "outputs": [
    {
     "name": "stdout",
     "output_type": "stream",
     "text": [
      "0.6118970395417845\n",
      "0.6104946450259467\n"
     ]
    }
   ],
   "source": [
    "from sklearn.ensemble import RandomForestClassifier\n",
    "clf = RandomForestClassifier(max_depth=5,\n",
    "                             min_samples_split=20,\n",
    "                             min_samples_leaf =20)\n",
    "clf.fit(X_train, y_train)\n",
    "print(clf.score(X_train, y_train))\n",
    "print(clf.score(X_test, y_test))"
   ]
  },
  {
   "cell_type": "code",
   "execution_count": 12,
   "id": "f8515dcf",
   "metadata": {},
   "outputs": [
    {
     "name": "stdout",
     "output_type": "stream",
     "text": [
      "0.6123455938168518\n"
     ]
    }
   ],
   "source": [
    "# For cross validation\n",
    "from sklearn.model_selection import cross_val_score\n",
    "clf = RandomForestClassifier(max_depth=5,\n",
    "                             min_samples_split=20,\n",
    "                             min_samples_leaf =20)\n",
    "cross_val_scores = cross_val_score(clf, X_train, y_train, cv=10)\n",
    "print(np.mean(cross_val_scores))\n"
   ]
  },
  {
   "cell_type": "markdown",
   "id": "33671c05",
   "metadata": {},
   "source": [
    "### Discuss the output and its impact in the bussiness scenario. Is the cost of a false positive equals to the cost of the false negative? How would you change your algorithm or data in order to maximize the return of the bussiness?"
   ]
  },
  {
   "cell_type": "code",
   "execution_count": null,
   "id": "95016f9d",
   "metadata": {},
   "outputs": [],
   "source": [
    "# False positive : identify a person as a donate when in reality isn't \n",
    "# False negative : not identify a donate person \n",
    "\n",
    "# The cost of a false negative is higher than the cost of a false positive.\n",
    "# I would make the changes necessaries to decrease the possibility of having false negatives."
   ]
  }
 ],
 "metadata": {
  "kernelspec": {
   "display_name": "Python 3",
   "language": "python",
   "name": "python3"
  },
  "language_info": {
   "codemirror_mode": {
    "name": "ipython",
    "version": 3
   },
   "file_extension": ".py",
   "mimetype": "text/x-python",
   "name": "python",
   "nbconvert_exporter": "python",
   "pygments_lexer": "ipython3",
   "version": "3.8.8"
  }
 },
 "nbformat": 4,
 "nbformat_minor": 5
}
